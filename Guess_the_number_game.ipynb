{
 "cells": [
  {
   "cell_type": "code",
   "execution_count": 1,
   "metadata": {},
   "outputs": [
    {
     "name": "stdout",
     "output_type": "stream",
     "text": [
      "Welcome to Guess the Number Game\n",
      "Guess the correct numper between 1 and 10\n",
      "Every incorrect Guess increases your count by 1 and your final winnings will be 10 Rupee minus the number of incorrect Guesses\n"
     ]
    }
   ],
   "source": [
    "print('Welcome to Guess the Number Game')\n",
    "print('Guess the correct numper between 1 and 10')\n",
    "print('Every incorrect Guess increases your count by 1 and your final winnings will be 10 Rupee minus the number of incorrect Guesses')\n"
   ]
  },
  {
   "cell_type": "code",
   "execution_count": 2,
   "metadata": {},
   "outputs": [],
   "source": [
    "import numpy as np\n"
   ]
  },
  {
   "cell_type": "code",
   "execution_count": 3,
   "metadata": {},
   "outputs": [
    {
     "name": "stdout",
     "output_type": "stream",
     "text": [
      "Guess any number between 1 and 10:5\n",
      "your guess was incorrect\n",
      "Guess a lower number\n",
      "Guess any number between 1 and 10:3\n",
      "your guess was incorrect\n",
      "Guess a lower number\n",
      "Guess any number between 1 and 10:2\n",
      "your guess was incorrect\n",
      "Guess a lower number\n",
      "Guess any number between 1 and 10:1\n",
      "Congratulation\n",
      "You took 3 Guesses\n",
      "Your winnings are 7 Rupees\n"
     ]
    }
   ],
   "source": [
    "x = np.random.randint(1,10)\n",
    "count = 0\n",
    "winnings = 10\n",
    "Guess_the_number = int(input('Guess any number between 1 and 10:'))\n",
    "while Guess_the_number != x:\n",
    "    if Guess_the_number > x:\n",
    "        count += 1\n",
    "        print('your guess was incorrect')\n",
    "        print('Guess a lower number')\n",
    "        Guess_the_number = int(input('Guess any number between 1 and 10:'))    \n",
    "    elif Guess_the_number < x:\n",
    "        count += 1\n",
    "        print('your guess was incorrect')\n",
    "        print('Guess a higher number')\n",
    "        Guess_the_number = int(input('Guess any number between 1 and 10:'))\n",
    "print('Congratulation')\n",
    "print('You took', count, 'Guesses')\n",
    "print('Your winnings are', winnings - count, 'Rupees')"
   ]
  },
  {
   "cell_type": "code",
   "execution_count": null,
   "metadata": {},
   "outputs": [],
   "source": []
  }
 ],
 "metadata": {
  "kernelspec": {
   "display_name": "Python 3",
   "language": "python",
   "name": "python3"
  },
  "language_info": {
   "codemirror_mode": {
    "name": "ipython",
    "version": 3
   },
   "file_extension": ".py",
   "mimetype": "text/x-python",
   "name": "python",
   "nbconvert_exporter": "python",
   "pygments_lexer": "ipython3",
   "version": "3.8.3"
  }
 },
 "nbformat": 4,
 "nbformat_minor": 4
}
